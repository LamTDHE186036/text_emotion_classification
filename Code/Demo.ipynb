{
 "cells": [
  {
   "cell_type": "code",
   "execution_count": 3,
   "id": "84a8aa45",
   "metadata": {},
   "outputs": [
    {
     "name": "stdout",
     "output_type": "stream",
     "text": [
      "* Running on local URL:  http://127.0.0.1:7871\n",
      "* To create a public link, set `share=True` in `launch()`.\n"
     ]
    },
    {
     "data": {
      "text/html": [
       "<div><iframe src=\"http://127.0.0.1:7871/\" width=\"100%\" height=\"500\" allow=\"autoplay; camera; microphone; clipboard-read; clipboard-write;\" frameborder=\"0\" allowfullscreen></iframe></div>"
      ],
      "text/plain": [
       "<IPython.core.display.HTML object>"
      ]
     },
     "metadata": {},
     "output_type": "display_data"
    },
    {
     "name": "stderr",
     "output_type": "stream",
     "text": [
      "WARNING:absl:Compiled the loaded model, but the compiled metrics have yet to be built. `model.compile_metrics` will be empty until you train or evaluate the model.\n",
      "WARNING:absl:Compiled the loaded model, but the compiled metrics have yet to be built. `model.compile_metrics` will be empty until you train or evaluate the model.\n",
      "WARNING:absl:Compiled the loaded model, but the compiled metrics have yet to be built. `model.compile_metrics` will be empty until you train or evaluate the model.\n"
     ]
    }
   ],
   "source": [
    "import gradio as gr\n",
    "import numpy as np\n",
    "from tensorflow.keras.models import load_model\n",
    "from tensorflow.keras.preprocessing.sequence import pad_sequences\n",
    "from nltk.tokenize import word_tokenize\n",
    "from nltk.corpus import stopwords\n",
    "import nltk\n",
    "import pickle\n",
    "\n",
    "try : \n",
    "    nltk.download('punkt_tab', quiet=True)\n",
    "    nltk.download('stopwords', quiet=True)\n",
    "except Exception as e:\n",
    "    raise Exception(f\"Error loading NLTK resources: {str(e)}\")\n",
    "\n",
    "stop_words = set(stopwords.words('english'))\n",
    "important_words = {'no', 'not', 'nor', 'never'}\n",
    "\n",
    "\n",
    "def load_resources():\n",
    "    model = load_model(\"emotions_model.h5\")\n",
    "    with open(\"tokenizer.pkl\", \"rb\") as f:\n",
    "        tokenizer = pickle.load(f)\n",
    "    return model, tokenizer\n",
    "\n",
    "\n",
    "label_map = {\n",
    "    0: 'Sadness',\n",
    "    1: 'Joy',\n",
    "    2: 'Love',\n",
    "    3: 'Anger',\n",
    "    4: 'Fear',\n",
    "    5: 'Surprise'\n",
    "}\n",
    "\n",
    "def predict_emotion(text):\n",
    "    \n",
    "\n",
    "    \n",
    "    model, tokenizer = load_resources()\n",
    "\n",
    "    tokens = word_tokenize(text)\n",
    "    filtered = [word for word in tokens if word.lower() not in stop_words or word.lower() in important_words]\n",
    "    text_processed = ' '.join(filtered)\n",
    "        \n",
    "    seq = tokenizer.texts_to_sequences([text_processed])\n",
    "    max_len = 100 \n",
    "    padded = pad_sequences(seq, maxlen=max_len, padding='post')\n",
    "\n",
    "    y_pred = model.predict(padded, verbose=0)\n",
    "    predicted_class = int(np.argmax(y_pred, axis=1)[0])\n",
    "    confidence = float(np.max(y_pred))\n",
    "\n",
    "    return f\"{label_map[predicted_class]}-{predicted_class} (Confidence: {confidence:.0%})\"\n",
    "  \n",
    "# Create Gradio interface\n",
    "demo = gr.Interface(\n",
    "    fn=predict_emotion,\n",
    "    inputs=gr.Textbox(lines=3, placeholder=\"Enter an English sentence...\"),\n",
    "    outputs=gr.Textbox(),\n",
    "    title=\"Emotion Classifier\",\n",
    "    description=\"Enter an English sentence or text to predict the emotion (Sadness, Joy, Love, Anger, Fear, Surprise).\"\n",
    ")\n",
    "\n",
    "# Launch the application\n",
    "if __name__ == \"__main__\":\n",
    "    demo.launch()"
   ]
  },
  {
   "cell_type": "code",
   "execution_count": null,
   "id": "adae269d",
   "metadata": {},
   "outputs": [],
   "source": []
  }
 ],
 "metadata": {
  "kernelspec": {
   "display_name": "Python 3",
   "language": "python",
   "name": "python3"
  },
  "language_info": {
   "codemirror_mode": {
    "name": "ipython",
    "version": 3
   },
   "file_extension": ".py",
   "mimetype": "text/x-python",
   "name": "python",
   "nbconvert_exporter": "python",
   "pygments_lexer": "ipython3",
   "version": "3.12.4"
  }
 },
 "nbformat": 4,
 "nbformat_minor": 5
}
